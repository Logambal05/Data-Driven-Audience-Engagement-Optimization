{
 "cells": [
  {
   "cell_type": "markdown",
   "id": "8a85f792",
   "metadata": {},
   "source": [
    "# Importing Required Libraries "
   ]
  },
  {
   "cell_type": "code",
   "execution_count": 279,
   "id": "b888df35",
   "metadata": {},
   "outputs": [],
   "source": [
    "import pandas as pd\n",
    "import numpy as np\n",
    "import seaborn as sns\n",
    "import matplotlib.pyplot as plt\n",
    "import plotly.express as px\n",
    "from warnings import filterwarnings\n",
    "filterwarnings('ignore')"
   ]
  },
  {
   "cell_type": "markdown",
   "id": "be19b91c",
   "metadata": {},
   "source": [
    "## Reading The Content CSV File"
   ]
  },
  {
   "cell_type": "code",
   "execution_count": 280,
   "id": "569239f5",
   "metadata": {},
   "outputs": [],
   "source": [
    "import pandas as pd\n",
    "df = pd.read_csv(\"C:/Users/Logambal/Downloads/Content.csv\")"
   ]
  },
  {
   "cell_type": "code",
   "execution_count": 281,
   "id": "c41da34c",
   "metadata": {},
   "outputs": [
    {
     "data": {
      "text/html": [
       "<div>\n",
       "<style scoped>\n",
       "    .dataframe tbody tr th:only-of-type {\n",
       "        vertical-align: middle;\n",
       "    }\n",
       "\n",
       "    .dataframe tbody tr th {\n",
       "        vertical-align: top;\n",
       "    }\n",
       "\n",
       "    .dataframe thead th {\n",
       "        text-align: right;\n",
       "    }\n",
       "</style>\n",
       "<table border=\"1\" class=\"dataframe\">\n",
       "  <thead>\n",
       "    <tr style=\"text-align: right;\">\n",
       "      <th></th>\n",
       "      <th>Unnamed: 0</th>\n",
       "      <th>Content ID</th>\n",
       "      <th>User ID</th>\n",
       "      <th>Type</th>\n",
       "      <th>Category</th>\n",
       "      <th>URL</th>\n",
       "    </tr>\n",
       "  </thead>\n",
       "  <tbody>\n",
       "    <tr>\n",
       "      <th>0</th>\n",
       "      <td>0</td>\n",
       "      <td>97522e57-d9ab-4bd6-97bf-c24d952602d2</td>\n",
       "      <td>8d3cd87d-8a31-4935-9a4f-b319bfe05f31</td>\n",
       "      <td>photo</td>\n",
       "      <td>Studying</td>\n",
       "      <td>https://socialbuzz.cdn.com/content/storage/975...</td>\n",
       "    </tr>\n",
       "    <tr>\n",
       "      <th>1</th>\n",
       "      <td>1</td>\n",
       "      <td>9f737e0a-3cdd-4d29-9d24-753f4e3be810</td>\n",
       "      <td>beb1f34e-7870-46d6-9fc7-2e12eb83ce43</td>\n",
       "      <td>photo</td>\n",
       "      <td>healthy eating</td>\n",
       "      <td>https://socialbuzz.cdn.com/content/storage/9f7...</td>\n",
       "    </tr>\n",
       "    <tr>\n",
       "      <th>2</th>\n",
       "      <td>2</td>\n",
       "      <td>230c4e4d-70c3-461d-b42c-ec09396efb3f</td>\n",
       "      <td>a5c65404-5894-4b87-82f2-d787cbee86b4</td>\n",
       "      <td>photo</td>\n",
       "      <td>healthy eating</td>\n",
       "      <td>https://socialbuzz.cdn.com/content/storage/230...</td>\n",
       "    </tr>\n",
       "    <tr>\n",
       "      <th>3</th>\n",
       "      <td>3</td>\n",
       "      <td>356fff80-da4d-4785-9f43-bc1261031dc6</td>\n",
       "      <td>9fb4ce88-fac1-406c-8544-1a899cee7aaf</td>\n",
       "      <td>photo</td>\n",
       "      <td>technology</td>\n",
       "      <td>https://socialbuzz.cdn.com/content/storage/356...</td>\n",
       "    </tr>\n",
       "    <tr>\n",
       "      <th>4</th>\n",
       "      <td>4</td>\n",
       "      <td>01ab84dd-6364-4236-abbb-3f237db77180</td>\n",
       "      <td>e206e31b-5f85-4964-b6ea-d7ee5324def1</td>\n",
       "      <td>video</td>\n",
       "      <td>food</td>\n",
       "      <td>https://socialbuzz.cdn.com/content/storage/01a...</td>\n",
       "    </tr>\n",
       "  </tbody>\n",
       "</table>\n",
       "</div>"
      ],
      "text/plain": [
       "   Unnamed: 0                            Content ID  \\\n",
       "0           0  97522e57-d9ab-4bd6-97bf-c24d952602d2   \n",
       "1           1  9f737e0a-3cdd-4d29-9d24-753f4e3be810   \n",
       "2           2  230c4e4d-70c3-461d-b42c-ec09396efb3f   \n",
       "3           3  356fff80-da4d-4785-9f43-bc1261031dc6   \n",
       "4           4  01ab84dd-6364-4236-abbb-3f237db77180   \n",
       "\n",
       "                                User ID   Type        Category  \\\n",
       "0  8d3cd87d-8a31-4935-9a4f-b319bfe05f31  photo        Studying   \n",
       "1  beb1f34e-7870-46d6-9fc7-2e12eb83ce43  photo  healthy eating   \n",
       "2  a5c65404-5894-4b87-82f2-d787cbee86b4  photo  healthy eating   \n",
       "3  9fb4ce88-fac1-406c-8544-1a899cee7aaf  photo      technology   \n",
       "4  e206e31b-5f85-4964-b6ea-d7ee5324def1  video            food   \n",
       "\n",
       "                                                 URL  \n",
       "0  https://socialbuzz.cdn.com/content/storage/975...  \n",
       "1  https://socialbuzz.cdn.com/content/storage/9f7...  \n",
       "2  https://socialbuzz.cdn.com/content/storage/230...  \n",
       "3  https://socialbuzz.cdn.com/content/storage/356...  \n",
       "4  https://socialbuzz.cdn.com/content/storage/01a...  "
      ]
     },
     "execution_count": 281,
     "metadata": {},
     "output_type": "execute_result"
    }
   ],
   "source": [
    "df.head()"
   ]
  },
  {
   "cell_type": "code",
   "execution_count": 282,
   "id": "7cef9f81",
   "metadata": {},
   "outputs": [
    {
     "data": {
      "text/html": [
       "<div>\n",
       "<style scoped>\n",
       "    .dataframe tbody tr th:only-of-type {\n",
       "        vertical-align: middle;\n",
       "    }\n",
       "\n",
       "    .dataframe tbody tr th {\n",
       "        vertical-align: top;\n",
       "    }\n",
       "\n",
       "    .dataframe thead th {\n",
       "        text-align: right;\n",
       "    }\n",
       "</style>\n",
       "<table border=\"1\" class=\"dataframe\">\n",
       "  <thead>\n",
       "    <tr style=\"text-align: right;\">\n",
       "      <th></th>\n",
       "      <th>Unnamed: 0</th>\n",
       "      <th>Content ID</th>\n",
       "      <th>User ID</th>\n",
       "      <th>Type</th>\n",
       "      <th>Category</th>\n",
       "      <th>URL</th>\n",
       "    </tr>\n",
       "  </thead>\n",
       "  <tbody>\n",
       "    <tr>\n",
       "      <th>995</th>\n",
       "      <td>995</td>\n",
       "      <td>b4cef9ef-627b-41d7-a051-5961b0204ebb</td>\n",
       "      <td>5b62e10e-3c19-4d28-a57c-e9bdc3d6758d</td>\n",
       "      <td>video</td>\n",
       "      <td>public speaking</td>\n",
       "      <td>NaN</td>\n",
       "    </tr>\n",
       "    <tr>\n",
       "      <th>996</th>\n",
       "      <td>996</td>\n",
       "      <td>7a79f4e4-3b7d-44dc-bdef-bc990740252c</td>\n",
       "      <td>4fe420fa-a193-4408-bd5d-62a020233609</td>\n",
       "      <td>GIF</td>\n",
       "      <td>technology</td>\n",
       "      <td>https://socialbuzz.cdn.com/content/storage/7a7...</td>\n",
       "    </tr>\n",
       "    <tr>\n",
       "      <th>997</th>\n",
       "      <td>997</td>\n",
       "      <td>435007a5-6261-4d8b-b0a4-55fdc189754b</td>\n",
       "      <td>35d6a1f3-e358-4d4b-8074-05f3b7f35c2a</td>\n",
       "      <td>audio</td>\n",
       "      <td>veganism</td>\n",
       "      <td>https://socialbuzz.cdn.com/content/storage/435...</td>\n",
       "    </tr>\n",
       "    <tr>\n",
       "      <th>998</th>\n",
       "      <td>998</td>\n",
       "      <td>4e4c9690-c013-4ee7-9e66-943d8cbd27b7</td>\n",
       "      <td>b9bcd994-f000-4f6b-87fc-caae08acfaa1</td>\n",
       "      <td>GIF</td>\n",
       "      <td>culture</td>\n",
       "      <td>https://socialbuzz.cdn.com/content/storage/4e4...</td>\n",
       "    </tr>\n",
       "    <tr>\n",
       "      <th>999</th>\n",
       "      <td>999</td>\n",
       "      <td>75d6b589-7fae-4a6d-b0d0-752845150e56</td>\n",
       "      <td>b8c653b5-0118-4d7e-9bde-07c2de90f0ff</td>\n",
       "      <td>audio</td>\n",
       "      <td>technology</td>\n",
       "      <td>https://socialbuzz.cdn.com/content/storage/75d...</td>\n",
       "    </tr>\n",
       "  </tbody>\n",
       "</table>\n",
       "</div>"
      ],
      "text/plain": [
       "     Unnamed: 0                            Content ID  \\\n",
       "995         995  b4cef9ef-627b-41d7-a051-5961b0204ebb   \n",
       "996         996  7a79f4e4-3b7d-44dc-bdef-bc990740252c   \n",
       "997         997  435007a5-6261-4d8b-b0a4-55fdc189754b   \n",
       "998         998  4e4c9690-c013-4ee7-9e66-943d8cbd27b7   \n",
       "999         999  75d6b589-7fae-4a6d-b0d0-752845150e56   \n",
       "\n",
       "                                  User ID   Type         Category  \\\n",
       "995  5b62e10e-3c19-4d28-a57c-e9bdc3d6758d  video  public speaking   \n",
       "996  4fe420fa-a193-4408-bd5d-62a020233609    GIF       technology   \n",
       "997  35d6a1f3-e358-4d4b-8074-05f3b7f35c2a  audio         veganism   \n",
       "998  b9bcd994-f000-4f6b-87fc-caae08acfaa1    GIF          culture   \n",
       "999  b8c653b5-0118-4d7e-9bde-07c2de90f0ff  audio       technology   \n",
       "\n",
       "                                                   URL  \n",
       "995                                                NaN  \n",
       "996  https://socialbuzz.cdn.com/content/storage/7a7...  \n",
       "997  https://socialbuzz.cdn.com/content/storage/435...  \n",
       "998  https://socialbuzz.cdn.com/content/storage/4e4...  \n",
       "999  https://socialbuzz.cdn.com/content/storage/75d...  "
      ]
     },
     "execution_count": 282,
     "metadata": {},
     "output_type": "execute_result"
    }
   ],
   "source": [
    "df.tail()"
   ]
  },
  {
   "cell_type": "code",
   "execution_count": 283,
   "id": "4d5d250d",
   "metadata": {},
   "outputs": [
    {
     "data": {
      "text/plain": [
       "(1000, 6)"
      ]
     },
     "execution_count": 283,
     "metadata": {},
     "output_type": "execute_result"
    }
   ],
   "source": [
    "df.shape"
   ]
  },
  {
   "cell_type": "code",
   "execution_count": 284,
   "id": "842c7918",
   "metadata": {},
   "outputs": [
    {
     "data": {
      "text/plain": [
       "Unnamed: 0      0\n",
       "Content ID      0\n",
       "User ID         0\n",
       "Type            0\n",
       "Category        0\n",
       "URL           199\n",
       "dtype: int64"
      ]
     },
     "execution_count": 284,
     "metadata": {},
     "output_type": "execute_result"
    }
   ],
   "source": [
    "df.isnull().sum()"
   ]
  },
  {
   "cell_type": "code",
   "execution_count": 285,
   "id": "f808db1c",
   "metadata": {},
   "outputs": [],
   "source": [
    "df['Content_Type'] = df['Type']"
   ]
  },
  {
   "cell_type": "code",
   "execution_count": 286,
   "id": "28f6dd4c",
   "metadata": {},
   "outputs": [],
   "source": [
    "df = df.drop(columns = [\"Unnamed: 0\",\"URL\",\"User ID\",\"Type\"],axis=1)"
   ]
  },
  {
   "cell_type": "code",
   "execution_count": 287,
   "id": "03fffaf7",
   "metadata": {},
   "outputs": [
    {
     "data": {
      "text/html": [
       "<div>\n",
       "<style scoped>\n",
       "    .dataframe tbody tr th:only-of-type {\n",
       "        vertical-align: middle;\n",
       "    }\n",
       "\n",
       "    .dataframe tbody tr th {\n",
       "        vertical-align: top;\n",
       "    }\n",
       "\n",
       "    .dataframe thead th {\n",
       "        text-align: right;\n",
       "    }\n",
       "</style>\n",
       "<table border=\"1\" class=\"dataframe\">\n",
       "  <thead>\n",
       "    <tr style=\"text-align: right;\">\n",
       "      <th></th>\n",
       "      <th>Content ID</th>\n",
       "      <th>Category</th>\n",
       "      <th>Content_Type</th>\n",
       "    </tr>\n",
       "  </thead>\n",
       "  <tbody>\n",
       "    <tr>\n",
       "      <th>0</th>\n",
       "      <td>97522e57-d9ab-4bd6-97bf-c24d952602d2</td>\n",
       "      <td>Studying</td>\n",
       "      <td>photo</td>\n",
       "    </tr>\n",
       "    <tr>\n",
       "      <th>1</th>\n",
       "      <td>9f737e0a-3cdd-4d29-9d24-753f4e3be810</td>\n",
       "      <td>healthy eating</td>\n",
       "      <td>photo</td>\n",
       "    </tr>\n",
       "    <tr>\n",
       "      <th>2</th>\n",
       "      <td>230c4e4d-70c3-461d-b42c-ec09396efb3f</td>\n",
       "      <td>healthy eating</td>\n",
       "      <td>photo</td>\n",
       "    </tr>\n",
       "    <tr>\n",
       "      <th>3</th>\n",
       "      <td>356fff80-da4d-4785-9f43-bc1261031dc6</td>\n",
       "      <td>technology</td>\n",
       "      <td>photo</td>\n",
       "    </tr>\n",
       "    <tr>\n",
       "      <th>4</th>\n",
       "      <td>01ab84dd-6364-4236-abbb-3f237db77180</td>\n",
       "      <td>food</td>\n",
       "      <td>video</td>\n",
       "    </tr>\n",
       "  </tbody>\n",
       "</table>\n",
       "</div>"
      ],
      "text/plain": [
       "                             Content ID        Category Content_Type\n",
       "0  97522e57-d9ab-4bd6-97bf-c24d952602d2        Studying        photo\n",
       "1  9f737e0a-3cdd-4d29-9d24-753f4e3be810  healthy eating        photo\n",
       "2  230c4e4d-70c3-461d-b42c-ec09396efb3f  healthy eating        photo\n",
       "3  356fff80-da4d-4785-9f43-bc1261031dc6      technology        photo\n",
       "4  01ab84dd-6364-4236-abbb-3f237db77180            food        video"
      ]
     },
     "execution_count": 287,
     "metadata": {},
     "output_type": "execute_result"
    }
   ],
   "source": [
    "df.head()"
   ]
  },
  {
   "cell_type": "markdown",
   "id": "3bb45ac7",
   "metadata": {},
   "source": [
    "### Feature Engineering"
   ]
  },
  {
   "cell_type": "code",
   "execution_count": 288,
   "id": "1eca4189",
   "metadata": {},
   "outputs": [
    {
     "data": {
      "text/plain": [
       "array(['photo', 'video', 'GIF', 'audio'], dtype=object)"
      ]
     },
     "execution_count": 288,
     "metadata": {},
     "output_type": "execute_result"
    }
   ],
   "source": [
    "df[\"Content_Type\"].unique()"
   ]
  },
  {
   "cell_type": "code",
   "execution_count": 289,
   "id": "71c34bd4",
   "metadata": {},
   "outputs": [
    {
     "data": {
      "text/plain": [
       "array(['Studying', 'healthy eating', 'technology', 'food', 'cooking',\n",
       "       'dogs', 'soccer', 'public speaking', 'science', 'tennis', 'travel',\n",
       "       'fitness', 'education', 'studying', 'veganism', 'Animals',\n",
       "       'animals', 'culture', '\"culture\"', 'Fitness', '\"studying\"',\n",
       "       'Veganism', '\"animals\"', 'Travel', '\"soccer\"', 'Education',\n",
       "       '\"dogs\"', 'Technology', 'Soccer', '\"tennis\"', 'Culture', '\"food\"',\n",
       "       'Food', '\"technology\"', 'Healthy Eating', '\"cooking\"', 'Science',\n",
       "       '\"public speaking\"', '\"veganism\"', 'Public Speaking', '\"science\"'],\n",
       "      dtype=object)"
      ]
     },
     "execution_count": 289,
     "metadata": {},
     "output_type": "execute_result"
    }
   ],
   "source": [
    "df[\"Category\"].unique()"
   ]
  },
  {
   "cell_type": "code",
   "execution_count": 290,
   "id": "95a5aad1",
   "metadata": {},
   "outputs": [
    {
     "data": {
      "text/plain": [
       "Content_Type\n",
       "photo    261\n",
       "video    259\n",
       "GIF      244\n",
       "audio    236\n",
       "Name: count, dtype: int64"
      ]
     },
     "execution_count": 290,
     "metadata": {},
     "output_type": "execute_result"
    }
   ],
   "source": [
    "df[\"Content_Type\"].value_counts()"
   ]
  },
  {
   "cell_type": "code",
   "execution_count": 291,
   "id": "90d639f5",
   "metadata": {},
   "outputs": [
    {
     "data": {
      "text/plain": [
       "Category\n",
       "technology           71\n",
       "animals              67\n",
       "travel               67\n",
       "culture              63\n",
       "science              63\n",
       "fitness              61\n",
       "food                 61\n",
       "healthy eating       61\n",
       "cooking              60\n",
       "soccer               58\n",
       "tennis               58\n",
       "education            57\n",
       "dogs                 56\n",
       "studying             55\n",
       "veganism             48\n",
       "public speaking      48\n",
       "Fitness               5\n",
       "Animals               4\n",
       "Science               4\n",
       "\"soccer\"              3\n",
       "\"culture\"             3\n",
       "Soccer                3\n",
       "\"dogs\"                2\n",
       "Education             2\n",
       "Studying              2\n",
       "Travel                2\n",
       "Food                  2\n",
       "\"veganism\"            1\n",
       "\"public speaking\"     1\n",
       "Public Speaking       1\n",
       "\"technology\"          1\n",
       "\"cooking\"             1\n",
       "Healthy Eating        1\n",
       "\"studying\"            1\n",
       "\"food\"                1\n",
       "Culture               1\n",
       "\"tennis\"              1\n",
       "Technology            1\n",
       "\"animals\"             1\n",
       "Veganism              1\n",
       "\"science\"             1\n",
       "Name: count, dtype: int64"
      ]
     },
     "execution_count": 291,
     "metadata": {},
     "output_type": "execute_result"
    }
   ],
   "source": [
    "df[\"Category\"].value_counts()"
   ]
  },
  {
   "cell_type": "code",
   "execution_count": 292,
   "id": "22d9925a",
   "metadata": {},
   "outputs": [],
   "source": [
    "Categories = {\n",
    "    'Fitness': \"fitness\",\n",
    "    'Animals' : \"animals\",\n",
    "    '\"animals\"' : \"animals\",\n",
    "    '\"science\"' : \"science\",\n",
    "    \"Science\" : \"science\",\n",
    "    '\"soccer\"' : \"soccer\",\n",
    "    'Soccer' : \"soccer\",\n",
    "    'Culture' : \"culture\",\n",
    "    '\"culture\"' : \"culture\",\n",
    "    '\"dogs\"' : \"dogs\",\n",
    "    'Education' : \"education\",\n",
    "    '\"studying\"': \"studying\",\n",
    "    'Studying': \"studying\",\n",
    "    'Travel': \"travel\",\n",
    "    '\"food\"': \"food\",\n",
    "    'Food': \"food\",\n",
    "    'Veganism': \"veganism\",\n",
    "    '\"veganism\"': \"veganism\",\n",
    "    'Public Speaking': \"public speaking\",\n",
    "    '\"public speaking\"': \"public speaking\",\n",
    "    'Technology': \"technology\",\n",
    "    '\"technology\"': \"technology\",\n",
    "    '\"cooking\"': \"cooking\",\n",
    "    'Healthy Eating': \"healthy eating\",\n",
    "    '\"tennis\"': \"tennis\"\n",
    "}"
   ]
  },
  {
   "cell_type": "code",
   "execution_count": 293,
   "id": "92563e84",
   "metadata": {},
   "outputs": [],
   "source": [
    "df['Category'] = df['Category'].replace(Categories)"
   ]
  },
  {
   "cell_type": "code",
   "execution_count": 294,
   "id": "6d626db8",
   "metadata": {},
   "outputs": [
    {
     "data": {
      "text/plain": [
       "Category\n",
       "technology         73\n",
       "animals            72\n",
       "travel             69\n",
       "science            68\n",
       "culture            67\n",
       "fitness            66\n",
       "food               64\n",
       "soccer             64\n",
       "healthy eating     62\n",
       "cooking            61\n",
       "tennis             59\n",
       "education          59\n",
       "studying           58\n",
       "dogs               58\n",
       "public speaking    50\n",
       "veganism           50\n",
       "Name: count, dtype: int64"
      ]
     },
     "execution_count": 294,
     "metadata": {},
     "output_type": "execute_result"
    }
   ],
   "source": [
    "df[\"Category\"].value_counts()"
   ]
  },
  {
   "cell_type": "code",
   "execution_count": 347,
   "id": "67adf452",
   "metadata": {},
   "outputs": [
    {
     "data": {
      "text/plain": [
       "Category\n",
       "technology         0.073\n",
       "animals            0.072\n",
       "travel             0.069\n",
       "science            0.068\n",
       "culture            0.067\n",
       "fitness            0.066\n",
       "food               0.064\n",
       "soccer             0.064\n",
       "healthy eating     0.062\n",
       "cooking            0.061\n",
       "tennis             0.059\n",
       "education          0.059\n",
       "studying           0.058\n",
       "dogs               0.058\n",
       "public speaking    0.050\n",
       "veganism           0.050\n",
       "Name: proportion, dtype: float64"
      ]
     },
     "execution_count": 347,
     "metadata": {},
     "output_type": "execute_result"
    }
   ],
   "source": [
    "df[\"Category\"].value_counts(normalize=True)"
   ]
  },
  {
   "cell_type": "code",
   "execution_count": 295,
   "id": "daffcf45",
   "metadata": {},
   "outputs": [
    {
     "data": {
      "text/plain": [
       "array(['studying', 'healthy eating', 'technology', 'food', 'cooking',\n",
       "       'dogs', 'soccer', 'public speaking', 'science', 'tennis', 'travel',\n",
       "       'fitness', 'education', 'veganism', 'animals', 'culture'],\n",
       "      dtype=object)"
      ]
     },
     "execution_count": 295,
     "metadata": {},
     "output_type": "execute_result"
    }
   ],
   "source": [
    "df[\"Category\"].unique()"
   ]
  },
  {
   "cell_type": "code",
   "execution_count": 296,
   "id": "410caa09",
   "metadata": {},
   "outputs": [
    {
     "data": {
      "text/html": [
       "<div>\n",
       "<style scoped>\n",
       "    .dataframe tbody tr th:only-of-type {\n",
       "        vertical-align: middle;\n",
       "    }\n",
       "\n",
       "    .dataframe tbody tr th {\n",
       "        vertical-align: top;\n",
       "    }\n",
       "\n",
       "    .dataframe thead th {\n",
       "        text-align: right;\n",
       "    }\n",
       "</style>\n",
       "<table border=\"1\" class=\"dataframe\">\n",
       "  <thead>\n",
       "    <tr style=\"text-align: right;\">\n",
       "      <th></th>\n",
       "      <th>Content ID</th>\n",
       "      <th>Category</th>\n",
       "      <th>Content_Type</th>\n",
       "    </tr>\n",
       "  </thead>\n",
       "  <tbody>\n",
       "    <tr>\n",
       "      <th>0</th>\n",
       "      <td>97522e57-d9ab-4bd6-97bf-c24d952602d2</td>\n",
       "      <td>studying</td>\n",
       "      <td>photo</td>\n",
       "    </tr>\n",
       "    <tr>\n",
       "      <th>1</th>\n",
       "      <td>9f737e0a-3cdd-4d29-9d24-753f4e3be810</td>\n",
       "      <td>healthy eating</td>\n",
       "      <td>photo</td>\n",
       "    </tr>\n",
       "    <tr>\n",
       "      <th>2</th>\n",
       "      <td>230c4e4d-70c3-461d-b42c-ec09396efb3f</td>\n",
       "      <td>healthy eating</td>\n",
       "      <td>photo</td>\n",
       "    </tr>\n",
       "    <tr>\n",
       "      <th>3</th>\n",
       "      <td>356fff80-da4d-4785-9f43-bc1261031dc6</td>\n",
       "      <td>technology</td>\n",
       "      <td>photo</td>\n",
       "    </tr>\n",
       "    <tr>\n",
       "      <th>4</th>\n",
       "      <td>01ab84dd-6364-4236-abbb-3f237db77180</td>\n",
       "      <td>food</td>\n",
       "      <td>video</td>\n",
       "    </tr>\n",
       "  </tbody>\n",
       "</table>\n",
       "</div>"
      ],
      "text/plain": [
       "                             Content ID        Category Content_Type\n",
       "0  97522e57-d9ab-4bd6-97bf-c24d952602d2        studying        photo\n",
       "1  9f737e0a-3cdd-4d29-9d24-753f4e3be810  healthy eating        photo\n",
       "2  230c4e4d-70c3-461d-b42c-ec09396efb3f  healthy eating        photo\n",
       "3  356fff80-da4d-4785-9f43-bc1261031dc6      technology        photo\n",
       "4  01ab84dd-6364-4236-abbb-3f237db77180            food        video"
      ]
     },
     "execution_count": 296,
     "metadata": {},
     "output_type": "execute_result"
    }
   ],
   "source": [
    "df.head()"
   ]
  },
  {
   "cell_type": "markdown",
   "id": "4df058cb",
   "metadata": {},
   "source": [
    "### Exploratory Data Analysis(EDA)"
   ]
  },
  {
   "cell_type": "code",
   "execution_count": 297,
   "id": "0878a7f2",
   "metadata": {},
   "outputs": [
    {
     "data": {
      "image/png": "[encoded data removed]",
      "text/plain": [
       "<Figure size 1000x600 with 1 Axes>"
      ]
     },
     "metadata": {},
     "output_type": "display_data"
    }
   ],
   "source": [
    "# Create a count plot\n",
    "plt.figure(figsize=(10, 6))  \n",
    "ax = sns.countplot(data=df, x='Category', order=df['Category'].value_counts().index[::-1], palette=\"pastel\")\n",
    "plt.xticks(rotation=45) \n",
    "plt.title('Count of Categories')\n",
    "plt.xlabel('Category')\n",
    "plt.ylabel('Count')\n",
    "\n",
    "# Add a title for the plot\n",
    "ax.set_title('Bar Plot', fontsize=10)\n",
    "\n",
    "plt.show()"
   ]
  },
  {
   "cell_type": "markdown",
   "id": "19443a3f",
   "metadata": {},
   "source": [
    "### Inference:\n",
    "1. Based on the above bar chart, we can conclude that the technology category has the highest count overall, accounting for 7.3%, while veganism has the lowest count at 5%.\n",
    "\n",
    "### Recommendations:\n",
    "\n",
    "1. **Diversify Content:** Expand beyond technology to cater to diverse interests.\n",
    "2. **Engage Niche Audiences:** Focus on specialized content for the veganism niche.\n",
    "3. **Explore Emerging Trends:** Stay updated and tap into rising interests.\n",
    "4. **Optimize Content:** Analyze and tailor content for maximum engagement."
   ]
  },
  {
   "cell_type": "code",
   "execution_count": 298,
   "id": "7dcd5cb7",
   "metadata": {},
   "outputs": [
    {
     "data": {
      "image/png": "[encoded data removed]",
      "text/plain": [
       "<Figure size 600x600 with 1 Axes>"
      ]
     },
     "metadata": {},
     "output_type": "display_data"
    }
   ],
   "source": [
    "# Count occurrences of each type and sort them in descending order\n",
    "type_counts = df['Content_Type'].value_counts().sort_index(ascending=False)\n",
    "\n",
    "# Create a pie chart\n",
    "plt.figure(figsize=(6,6))  # Adjust the figure size as needed\n",
    "plt.pie(type_counts, labels=type_counts.index, autopct='%1.1f%%', startangle=140, colors=sns.color_palette(\"pastel\"), textprops={'fontsize': 12})\n",
    "plt.title('Distribution of Types')\n",
    "plt.show()\n"
   ]
  },
  {
   "cell_type": "markdown",
   "id": "74d2aea0",
   "metadata": {},
   "source": [
    "### Inference\n",
    "1. Based on the above pie chart, we conclude that the photo content type has the highest count at 26.1%, while the audio type has the least count at 23.6%.\n",
    "\n",
    "### Recommendations:\n",
    "1. **Enhance Audio Content:** Given its lower count, focus on improving the quality and appeal of audio content to attract more engagement.\n",
    "2. **Leverage Visual Content:** Capitalize on the popularity of photo content by creating visually compelling and shareable material.\n",
    "3. **Diversify Content Formats:** Explore other content types such as video or interactive content to offer variety and cater to diverse audience preferences.\n",
    "4. **Analyze Audience Preferences:** Continuously monitor audience feedback and engagement metrics to refine content strategies and prioritize high-performing content types."
   ]
  },
  {
   "cell_type": "code",
   "execution_count": 299,
   "id": "c1ef03a6",
   "metadata": {},
   "outputs": [],
   "source": [
    "df2 = pd.read_csv(\"C:/Users/Logambal/Downloads/Reactions.csv\")"
   ]
  },
  {
   "cell_type": "code",
   "execution_count": 300,
   "id": "5a326bdb",
   "metadata": {},
   "outputs": [
    {
     "data": {
      "text/html": [
       "<div>\n",
       "<style scoped>\n",
       "    .dataframe tbody tr th:only-of-type {\n",
       "        vertical-align: middle;\n",
       "    }\n",
       "\n",
       "    .dataframe tbody tr th {\n",
       "        vertical-align: top;\n",
       "    }\n",
       "\n",
       "    .dataframe thead th {\n",
       "        text-align: right;\n",
       "    }\n",
       "</style>\n",
       "<table border=\"1\" class=\"dataframe\">\n",
       "  <thead>\n",
       "    <tr style=\"text-align: right;\">\n",
       "      <th></th>\n",
       "      <th>Unnamed: 0</th>\n",
       "      <th>Content ID</th>\n",
       "      <th>User ID</th>\n",
       "      <th>Type</th>\n",
       "      <th>Datetime</th>\n",
       "    </tr>\n",
       "  </thead>\n",
       "  <tbody>\n",
       "    <tr>\n",
       "      <th>0</th>\n",
       "      <td>0</td>\n",
       "      <td>97522e57-d9ab-4bd6-97bf-c24d952602d2</td>\n",
       "      <td>NaN</td>\n",
       "      <td>NaN</td>\n",
       "      <td>2021-04-22 15:17:15</td>\n",
       "    </tr>\n",
       "    <tr>\n",
       "      <th>1</th>\n",
       "      <td>1</td>\n",
       "      <td>97522e57-d9ab-4bd6-97bf-c24d952602d2</td>\n",
       "      <td>5d454588-283d-459d-915d-c48a2cb4c27f</td>\n",
       "      <td>disgust</td>\n",
       "      <td>2020-11-07 09:43:50</td>\n",
       "    </tr>\n",
       "    <tr>\n",
       "      <th>2</th>\n",
       "      <td>2</td>\n",
       "      <td>97522e57-d9ab-4bd6-97bf-c24d952602d2</td>\n",
       "      <td>92b87fa5-f271-43e0-af66-84fac21052e6</td>\n",
       "      <td>dislike</td>\n",
       "      <td>2021-06-17 12:22:51</td>\n",
       "    </tr>\n",
       "    <tr>\n",
       "      <th>3</th>\n",
       "      <td>3</td>\n",
       "      <td>97522e57-d9ab-4bd6-97bf-c24d952602d2</td>\n",
       "      <td>163daa38-8b77-48c9-9af6-37a6c1447ac2</td>\n",
       "      <td>scared</td>\n",
       "      <td>2021-04-18 05:13:58</td>\n",
       "    </tr>\n",
       "    <tr>\n",
       "      <th>4</th>\n",
       "      <td>4</td>\n",
       "      <td>97522e57-d9ab-4bd6-97bf-c24d952602d2</td>\n",
       "      <td>34e8add9-0206-47fd-a501-037b994650a2</td>\n",
       "      <td>disgust</td>\n",
       "      <td>2021-01-06 19:13:01</td>\n",
       "    </tr>\n",
       "  </tbody>\n",
       "</table>\n",
       "</div>"
      ],
      "text/plain": [
       "   Unnamed: 0                            Content ID  \\\n",
       "0           0  97522e57-d9ab-4bd6-97bf-c24d952602d2   \n",
       "1           1  97522e57-d9ab-4bd6-97bf-c24d952602d2   \n",
       "2           2  97522e57-d9ab-4bd6-97bf-c24d952602d2   \n",
       "3           3  97522e57-d9ab-4bd6-97bf-c24d952602d2   \n",
       "4           4  97522e57-d9ab-4bd6-97bf-c24d952602d2   \n",
       "\n",
       "                                User ID     Type             Datetime  \n",
       "0                                   NaN      NaN  2021-04-22 15:17:15  \n",
       "1  5d454588-283d-459d-915d-c48a2cb4c27f  disgust  2020-11-07 09:43:50  \n",
       "2  92b87fa5-f271-43e0-af66-84fac21052e6  dislike  2021-06-17 12:22:51  \n",
       "3  163daa38-8b77-48c9-9af6-37a6c1447ac2   scared  2021-04-18 05:13:58  \n",
       "4  34e8add9-0206-47fd-a501-037b994650a2  disgust  2021-01-06 19:13:01  "
      ]
     },
     "execution_count": 300,
     "metadata": {},
     "output_type": "execute_result"
    }
   ],
   "source": [
    "df2.head()"
   ]
  },
  {
   "cell_type": "code",
   "execution_count": 301,
   "id": "5cebb1ea",
   "metadata": {},
   "outputs": [
    {
     "data": {
      "text/html": [
       "<div>\n",
       "<style scoped>\n",
       "    .dataframe tbody tr th:only-of-type {\n",
       "        vertical-align: middle;\n",
       "    }\n",
       "\n",
       "    .dataframe tbody tr th {\n",
       "        vertical-align: top;\n",
       "    }\n",
       "\n",
       "    .dataframe thead th {\n",
       "        text-align: right;\n",
       "    }\n",
       "</style>\n",
       "<table border=\"1\" class=\"dataframe\">\n",
       "  <thead>\n",
       "    <tr style=\"text-align: right;\">\n",
       "      <th></th>\n",
       "      <th>Unnamed: 0</th>\n",
       "      <th>Content ID</th>\n",
       "      <th>User ID</th>\n",
       "      <th>Type</th>\n",
       "      <th>Datetime</th>\n",
       "    </tr>\n",
       "  </thead>\n",
       "  <tbody>\n",
       "    <tr>\n",
       "      <th>25548</th>\n",
       "      <td>25548</td>\n",
       "      <td>75d6b589-7fae-4a6d-b0d0-752845150e56</td>\n",
       "      <td>80c9ce48-46f9-4f5e-b3ca-3b698fc2e949</td>\n",
       "      <td>dislike</td>\n",
       "      <td>2020-06-27 09:46:48</td>\n",
       "    </tr>\n",
       "    <tr>\n",
       "      <th>25549</th>\n",
       "      <td>25549</td>\n",
       "      <td>75d6b589-7fae-4a6d-b0d0-752845150e56</td>\n",
       "      <td>2bd9c167-e06c-47c1-a978-3403d6724606</td>\n",
       "      <td>intrigued</td>\n",
       "      <td>2021-02-16 17:17:02</td>\n",
       "    </tr>\n",
       "    <tr>\n",
       "      <th>25550</th>\n",
       "      <td>25550</td>\n",
       "      <td>75d6b589-7fae-4a6d-b0d0-752845150e56</td>\n",
       "      <td>NaN</td>\n",
       "      <td>interested</td>\n",
       "      <td>2020-09-12 03:54:58</td>\n",
       "    </tr>\n",
       "    <tr>\n",
       "      <th>25551</th>\n",
       "      <td>25551</td>\n",
       "      <td>75d6b589-7fae-4a6d-b0d0-752845150e56</td>\n",
       "      <td>5ffd8b51-164e-47e2-885e-8b8c46eb63ed</td>\n",
       "      <td>worried</td>\n",
       "      <td>2020-11-04 20:08:31</td>\n",
       "    </tr>\n",
       "    <tr>\n",
       "      <th>25552</th>\n",
       "      <td>25552</td>\n",
       "      <td>75d6b589-7fae-4a6d-b0d0-752845150e56</td>\n",
       "      <td>4edc3d1a-a7d9-4db6-89c3-f784d9954172</td>\n",
       "      <td>cherish</td>\n",
       "      <td>2021-01-04 04:55:11</td>\n",
       "    </tr>\n",
       "  </tbody>\n",
       "</table>\n",
       "</div>"
      ],
      "text/plain": [
       "       Unnamed: 0                            Content ID  \\\n",
       "25548       25548  75d6b589-7fae-4a6d-b0d0-752845150e56   \n",
       "25549       25549  75d6b589-7fae-4a6d-b0d0-752845150e56   \n",
       "25550       25550  75d6b589-7fae-4a6d-b0d0-752845150e56   \n",
       "25551       25551  75d6b589-7fae-4a6d-b0d0-752845150e56   \n",
       "25552       25552  75d6b589-7fae-4a6d-b0d0-752845150e56   \n",
       "\n",
       "                                    User ID        Type             Datetime  \n",
       "25548  80c9ce48-46f9-4f5e-b3ca-3b698fc2e949     dislike  2020-06-27 09:46:48  \n",
       "25549  2bd9c167-e06c-47c1-a978-3403d6724606   intrigued  2021-02-16 17:17:02  \n",
       "25550                                   NaN  interested  2020-09-12 03:54:58  \n",
       "25551  5ffd8b51-164e-47e2-885e-8b8c46eb63ed     worried  2020-11-04 20:08:31  \n",
       "25552  4edc3d1a-a7d9-4db6-89c3-f784d9954172     cherish  2021-01-04 04:55:11  "
      ]
     },
     "execution_count": 301,
     "metadata": {},
     "output_type": "execute_result"
    }
   ],
   "source": [
    "df2.tail()"
   ]
  },
  {
   "cell_type": "code",
   "execution_count": 302,
   "id": "473f0b73",
   "metadata": {},
   "outputs": [
    {
     "data": {
      "text/plain": [
       "(25553, 5)"
      ]
     },
     "execution_count": 302,
     "metadata": {},
     "output_type": "execute_result"
    }
   ],
   "source": [
    "df2.shape"
   ]
  },
  {
   "cell_type": "code",
   "execution_count": 303,
   "id": "d2b8677a",
   "metadata": {},
   "outputs": [
    {
     "data": {
      "text/plain": [
       "Unnamed: 0       0\n",
       "Content ID       0\n",
       "User ID       3019\n",
       "Type           980\n",
       "Datetime         0\n",
       "dtype: int64"
      ]
     },
     "execution_count": 303,
     "metadata": {},
     "output_type": "execute_result"
    }
   ],
   "source": [
    "df2.isnull().sum()"
   ]
  },
  {
   "cell_type": "code",
   "execution_count": 304,
   "id": "b54c9509",
   "metadata": {},
   "outputs": [
    {
     "data": {
      "text/plain": [
       "Unnamed: 0       0\n",
       "Content ID       0\n",
       "User ID       3019\n",
       "Type           980\n",
       "Datetime         0\n",
       "dtype: int64"
      ]
     },
     "execution_count": 304,
     "metadata": {},
     "output_type": "execute_result"
    }
   ],
   "source": [
    "df2.isnull().sum()"
   ]
  },
  {
   "cell_type": "code",
   "execution_count": 305,
   "id": "1414d2c1",
   "metadata": {},
   "outputs": [],
   "source": [
    "df2 = df2.dropna()"
   ]
  },
  {
   "cell_type": "code",
   "execution_count": 306,
   "id": "850c9f9f",
   "metadata": {},
   "outputs": [
    {
     "data": {
      "text/plain": [
       "Unnamed: 0    0\n",
       "Content ID    0\n",
       "User ID       0\n",
       "Type          0\n",
       "Datetime      0\n",
       "dtype: int64"
      ]
     },
     "execution_count": 306,
     "metadata": {},
     "output_type": "execute_result"
    }
   ],
   "source": [
    "df2.isnull().sum()"
   ]
  },
  {
   "cell_type": "code",
   "execution_count": 307,
   "id": "308053e4",
   "metadata": {},
   "outputs": [
    {
     "data": {
      "text/plain": [
       "(22534, 5)"
      ]
     },
     "execution_count": 307,
     "metadata": {},
     "output_type": "execute_result"
    }
   ],
   "source": [
    "df2.shape"
   ]
  },
  {
   "cell_type": "code",
   "execution_count": 308,
   "id": "8082e6c7",
   "metadata": {},
   "outputs": [
    {
     "data": {
      "text/plain": [
       "0"
      ]
     },
     "execution_count": 308,
     "metadata": {},
     "output_type": "execute_result"
    }
   ],
   "source": [
    "df2.duplicated().sum()"
   ]
  },
  {
   "cell_type": "code",
   "execution_count": 309,
   "id": "6fb6f6f7",
   "metadata": {},
   "outputs": [],
   "source": [
    "df2 = df2.drop(columns = [\"Unnamed: 0\",\"User ID\",\"Datetime\"],axis = 1)"
   ]
  },
  {
   "cell_type": "code",
   "execution_count": 311,
   "id": "5001dccc",
   "metadata": {},
   "outputs": [
    {
     "data": {
      "text/plain": [
       "array(['disgust', 'dislike', 'scared', 'interested', 'peeking', 'cherish',\n",
       "       'hate', 'indifferent', 'super love', 'worried', 'like', 'heart',\n",
       "       'want', 'intrigued', 'love', 'adore'], dtype=object)"
      ]
     },
     "execution_count": 311,
     "metadata": {},
     "output_type": "execute_result"
    }
   ],
   "source": [
    "df2['Type'].unique()"
   ]
  },
  {
   "cell_type": "code",
   "execution_count": 313,
   "id": "bd8c6b25",
   "metadata": {},
   "outputs": [
    {
     "name": "stdout",
     "output_type": "stream",
     "text": [
      "16\n"
     ]
    }
   ],
   "source": [
    "type_len = df2['Type'].unique()\n",
    "print(len(type_len))"
   ]
  },
  {
   "cell_type": "code",
   "execution_count": 314,
   "id": "def3a983",
   "metadata": {},
   "outputs": [
    {
     "data": {
      "text/plain": [
       "Type\n",
       "heart          1497\n",
       "peeking        1438\n",
       "scared         1436\n",
       "adore          1427\n",
       "interested     1425\n",
       "hate           1420\n",
       "love           1411\n",
       "disgust        1406\n",
       "dislike        1396\n",
       "want           1396\n",
       "super love     1393\n",
       "like           1391\n",
       "indifferent    1385\n",
       "cherish        1380\n",
       "worried        1379\n",
       "intrigued      1354\n",
       "Name: count, dtype: int64"
      ]
     },
     "execution_count": 314,
     "metadata": {},
     "output_type": "execute_result"
    }
   ],
   "source": [
    "df2['Type'].value_counts()"
   ]
  },
  {
   "cell_type": "code",
   "execution_count": 350,
   "id": "434cc6cb",
   "metadata": {},
   "outputs": [
    {
     "data": {
      "text/plain": [
       "Type\n",
       "heart          0.066433\n",
       "peeking        0.063815\n",
       "scared         0.063726\n",
       "adore          0.063327\n",
       "interested     0.063238\n",
       "hate           0.063016\n",
       "love           0.062616\n",
       "disgust        0.062395\n",
       "dislike        0.061951\n",
       "want           0.061951\n",
       "super love     0.061818\n",
       "like           0.061729\n",
       "indifferent    0.061463\n",
       "cherish        0.061241\n",
       "worried        0.061196\n",
       "intrigued      0.060087\n",
       "Name: proportion, dtype: float64"
      ]
     },
     "execution_count": 350,
     "metadata": {},
     "output_type": "execute_result"
    }
   ],
   "source": [
    "df2['Type'].value_counts(normalize=True)"
   ]
  },
  {
   "cell_type": "markdown",
   "id": "3f43c263",
   "metadata": {},
   "source": [
    "### Inference\n",
    "1. Based on the above bar chart, we can conclude that the **Heart** reaction type has the highest count overall, accounting for 6.6%, while the **Intrigued** reaction type has the lowest count at 6%.\n",
    "\n",
    "### Recommendations:\n",
    "1. **Encourage Engagement:** Since the \"heart\" reaction type is popular, encourage users to express their appreciation by providing engaging and valuable content.\n",
    "2. **Improve Visibility:** To boost engagement with lesser-used reaction types like \"intrigued\", highlight their availability and encourage users to explore and utilize them.\n",
    "3. **Analyze User Feedback:** Continuously monitor user feedback to understand preferences and tailor content strategies to resonate with the audience.\n",
    "4. **Experiment with Content:** Experiment with different types of content and gauge audience reactions to identify what resonates best and optimize engagement."
   ]
  },
  {
   "cell_type": "code",
   "execution_count": 315,
   "id": "a5fa16f0",
   "metadata": {},
   "outputs": [
    {
     "data": {
      "image/png": "[encoded data removed]",
      "text/plain": [
       "<Figure size 1000x600 with 1 Axes>"
      ]
     },
     "metadata": {},
     "output_type": "display_data"
    }
   ],
   "source": [
    "# Create a count plot\n",
    "plt.figure(figsize=(10, 6))  \n",
    "ax = sns.countplot(data=df2, x='Type', order=df2['Type'].value_counts().index[::-1], palette=\"pastel\")\n",
    "plt.xticks(rotation=45) \n",
    "plt.title('Count of Type')\n",
    "plt.xlabel('Type')\n",
    "plt.ylabel('Count')\n",
    "\n",
    "# Add a title for the plot\n",
    "ax.set_title('Bar Plot', fontsize=10)\n",
    "\n",
    "plt.show()"
   ]
  },
  {
   "cell_type": "code",
   "execution_count": 316,
   "id": "28cdbbb4",
   "metadata": {},
   "outputs": [],
   "source": [
    "df3 = pd.read_csv(\"C:/Users/Logambal/Downloads/ReactionTypes.csv\")"
   ]
  },
  {
   "cell_type": "code",
   "execution_count": 317,
   "id": "fea0be51",
   "metadata": {},
   "outputs": [
    {
     "data": {
      "text/html": [
       "<div>\n",
       "<style scoped>\n",
       "    .dataframe tbody tr th:only-of-type {\n",
       "        vertical-align: middle;\n",
       "    }\n",
       "\n",
       "    .dataframe tbody tr th {\n",
       "        vertical-align: top;\n",
       "    }\n",
       "\n",
       "    .dataframe thead th {\n",
       "        text-align: right;\n",
       "    }\n",
       "</style>\n",
       "<table border=\"1\" class=\"dataframe\">\n",
       "  <thead>\n",
       "    <tr style=\"text-align: right;\">\n",
       "      <th></th>\n",
       "      <th>Unnamed: 0</th>\n",
       "      <th>Type</th>\n",
       "      <th>Sentiment</th>\n",
       "      <th>Score</th>\n",
       "    </tr>\n",
       "  </thead>\n",
       "  <tbody>\n",
       "    <tr>\n",
       "      <th>0</th>\n",
       "      <td>0</td>\n",
       "      <td>heart</td>\n",
       "      <td>positive</td>\n",
       "      <td>60</td>\n",
       "    </tr>\n",
       "    <tr>\n",
       "      <th>1</th>\n",
       "      <td>1</td>\n",
       "      <td>want</td>\n",
       "      <td>positive</td>\n",
       "      <td>70</td>\n",
       "    </tr>\n",
       "    <tr>\n",
       "      <th>2</th>\n",
       "      <td>2</td>\n",
       "      <td>disgust</td>\n",
       "      <td>negative</td>\n",
       "      <td>0</td>\n",
       "    </tr>\n",
       "    <tr>\n",
       "      <th>3</th>\n",
       "      <td>3</td>\n",
       "      <td>hate</td>\n",
       "      <td>negative</td>\n",
       "      <td>5</td>\n",
       "    </tr>\n",
       "    <tr>\n",
       "      <th>4</th>\n",
       "      <td>4</td>\n",
       "      <td>interested</td>\n",
       "      <td>positive</td>\n",
       "      <td>30</td>\n",
       "    </tr>\n",
       "  </tbody>\n",
       "</table>\n",
       "</div>"
      ],
      "text/plain": [
       "   Unnamed: 0        Type Sentiment  Score\n",
       "0           0       heart  positive     60\n",
       "1           1        want  positive     70\n",
       "2           2     disgust  negative      0\n",
       "3           3        hate  negative      5\n",
       "4           4  interested  positive     30"
      ]
     },
     "execution_count": 317,
     "metadata": {},
     "output_type": "execute_result"
    }
   ],
   "source": [
    "df3.head()"
   ]
  },
  {
   "cell_type": "code",
   "execution_count": 318,
   "id": "5a799f07",
   "metadata": {},
   "outputs": [
    {
     "data": {
      "text/html": [
       "<div>\n",
       "<style scoped>\n",
       "    .dataframe tbody tr th:only-of-type {\n",
       "        vertical-align: middle;\n",
       "    }\n",
       "\n",
       "    .dataframe tbody tr th {\n",
       "        vertical-align: top;\n",
       "    }\n",
       "\n",
       "    .dataframe thead th {\n",
       "        text-align: right;\n",
       "    }\n",
       "</style>\n",
       "<table border=\"1\" class=\"dataframe\">\n",
       "  <thead>\n",
       "    <tr style=\"text-align: right;\">\n",
       "      <th></th>\n",
       "      <th>Unnamed: 0</th>\n",
       "      <th>Type</th>\n",
       "      <th>Sentiment</th>\n",
       "      <th>Score</th>\n",
       "    </tr>\n",
       "  </thead>\n",
       "  <tbody>\n",
       "    <tr>\n",
       "      <th>11</th>\n",
       "      <td>11</td>\n",
       "      <td>dislike</td>\n",
       "      <td>negative</td>\n",
       "      <td>10</td>\n",
       "    </tr>\n",
       "    <tr>\n",
       "      <th>12</th>\n",
       "      <td>12</td>\n",
       "      <td>intrigued</td>\n",
       "      <td>positive</td>\n",
       "      <td>45</td>\n",
       "    </tr>\n",
       "    <tr>\n",
       "      <th>13</th>\n",
       "      <td>13</td>\n",
       "      <td>peeking</td>\n",
       "      <td>neutral</td>\n",
       "      <td>35</td>\n",
       "    </tr>\n",
       "    <tr>\n",
       "      <th>14</th>\n",
       "      <td>14</td>\n",
       "      <td>scared</td>\n",
       "      <td>negative</td>\n",
       "      <td>15</td>\n",
       "    </tr>\n",
       "    <tr>\n",
       "      <th>15</th>\n",
       "      <td>15</td>\n",
       "      <td>worried</td>\n",
       "      <td>negative</td>\n",
       "      <td>12</td>\n",
       "    </tr>\n",
       "  </tbody>\n",
       "</table>\n",
       "</div>"
      ],
      "text/plain": [
       "    Unnamed: 0       Type Sentiment  Score\n",
       "11          11    dislike  negative     10\n",
       "12          12  intrigued  positive     45\n",
       "13          13    peeking   neutral     35\n",
       "14          14     scared  negative     15\n",
       "15          15    worried  negative     12"
      ]
     },
     "execution_count": 318,
     "metadata": {},
     "output_type": "execute_result"
    }
   ],
   "source": [
    "df3.tail()"
   ]
  },
  {
   "cell_type": "code",
   "execution_count": 319,
   "id": "60ce8b47",
   "metadata": {},
   "outputs": [
    {
     "data": {
      "text/plain": [
       "(16, 4)"
      ]
     },
     "execution_count": 319,
     "metadata": {},
     "output_type": "execute_result"
    }
   ],
   "source": [
    "df3.shape"
   ]
  },
  {
   "cell_type": "code",
   "execution_count": 320,
   "id": "c6986a39",
   "metadata": {},
   "outputs": [
    {
     "data": {
      "text/plain": [
       "Unnamed: 0    0\n",
       "Type          0\n",
       "Sentiment     0\n",
       "Score         0\n",
       "dtype: int64"
      ]
     },
     "execution_count": 320,
     "metadata": {},
     "output_type": "execute_result"
    }
   ],
   "source": [
    "df3.isnull().sum()"
   ]
  },
  {
   "cell_type": "code",
   "execution_count": 321,
   "id": "86a6cb06",
   "metadata": {},
   "outputs": [
    {
     "data": {
      "text/plain": [
       "0"
      ]
     },
     "execution_count": 321,
     "metadata": {},
     "output_type": "execute_result"
    }
   ],
   "source": [
    "df3.duplicated().sum()"
   ]
  },
  {
   "cell_type": "code",
   "execution_count": 322,
   "id": "2507558e",
   "metadata": {},
   "outputs": [],
   "source": [
    "df3 = df3.drop(\"Unnamed: 0\",axis=1)"
   ]
  },
  {
   "cell_type": "code",
   "execution_count": 323,
   "id": "a3d56fb0",
   "metadata": {},
   "outputs": [
    {
     "data": {
      "text/plain": [
       "array(['heart', 'want', 'disgust', 'hate', 'interested', 'indifferent',\n",
       "       'love', 'super love', 'cherish', 'adore', 'like', 'dislike',\n",
       "       'intrigued', 'peeking', 'scared', 'worried'], dtype=object)"
      ]
     },
     "execution_count": 323,
     "metadata": {},
     "output_type": "execute_result"
    }
   ],
   "source": [
    "df3['Type'].unique()"
   ]
  },
  {
   "cell_type": "code",
   "execution_count": 324,
   "id": "d6b49a82",
   "metadata": {},
   "outputs": [
    {
     "name": "stdout",
     "output_type": "stream",
     "text": [
      "16\n"
     ]
    }
   ],
   "source": [
    "type_len = df3['Type'].unique()\n",
    "print(len(type_len))"
   ]
  },
  {
   "cell_type": "code",
   "execution_count": 325,
   "id": "4f26e907",
   "metadata": {},
   "outputs": [
    {
     "data": {
      "text/plain": [
       "Type\n",
       "heart          1\n",
       "want           1\n",
       "disgust        1\n",
       "hate           1\n",
       "interested     1\n",
       "indifferent    1\n",
       "love           1\n",
       "super love     1\n",
       "cherish        1\n",
       "adore          1\n",
       "like           1\n",
       "dislike        1\n",
       "intrigued      1\n",
       "peeking        1\n",
       "scared         1\n",
       "worried        1\n",
       "Name: count, dtype: int64"
      ]
     },
     "execution_count": 325,
     "metadata": {},
     "output_type": "execute_result"
    }
   ],
   "source": [
    "df3['Type'].value_counts()"
   ]
  },
  {
   "cell_type": "code",
   "execution_count": 326,
   "id": "16279f09",
   "metadata": {},
   "outputs": [
    {
     "data": {
      "text/plain": [
       "array(['positive', 'negative', 'neutral'], dtype=object)"
      ]
     },
     "execution_count": 326,
     "metadata": {},
     "output_type": "execute_result"
    }
   ],
   "source": [
    "df3['Sentiment'].unique()"
   ]
  },
  {
   "cell_type": "code",
   "execution_count": 327,
   "id": "fa7efaad",
   "metadata": {},
   "outputs": [
    {
     "data": {
      "text/plain": [
       "Sentiment\n",
       "positive    9\n",
       "negative    5\n",
       "neutral     2\n",
       "Name: count, dtype: int64"
      ]
     },
     "execution_count": 327,
     "metadata": {},
     "output_type": "execute_result"
    }
   ],
   "source": [
    "df3['Sentiment'].value_counts()"
   ]
  },
  {
   "cell_type": "code",
   "execution_count": 328,
   "id": "e2429a34",
   "metadata": {},
   "outputs": [
    {
     "data": {
      "text/plain": [
       "Score\n",
       "70    2\n",
       "60    1\n",
       "0     1\n",
       "5     1\n",
       "30    1\n",
       "20    1\n",
       "65    1\n",
       "75    1\n",
       "72    1\n",
       "50    1\n",
       "10    1\n",
       "45    1\n",
       "35    1\n",
       "15    1\n",
       "12    1\n",
       "Name: count, dtype: int64"
      ]
     },
     "execution_count": 328,
     "metadata": {},
     "output_type": "execute_result"
    }
   ],
   "source": [
    "df3['Score'].value_counts()"
   ]
  },
  {
   "cell_type": "code",
   "execution_count": 329,
   "id": "25b525de",
   "metadata": {},
   "outputs": [
    {
     "data": {
      "image/png": "[encoded data removed]",
      "text/plain": [
       "<Figure size 500x500 with 1 Axes>"
      ]
     },
     "metadata": {},
     "output_type": "display_data"
    }
   ],
   "source": [
    "# Count occurrences of each Sentiment and sort them in descending order\n",
    "type_counts = df3['Sentiment'].value_counts().sort_index(ascending=False)\n",
    "\n",
    "# Create a pie chart\n",
    "plt.figure(figsize=(5,5))  \n",
    "plt.pie(type_counts, labels=type_counts.index, autopct='%1.1f%%', \n",
    "        startangle=140, colors=sns.color_palette(\"pastel\"), textprops={'fontsize': 12})\n",
    "plt.title('Distribution of Sentiment')\n",
    "plt.show()\n"
   ]
  },
  {
   "cell_type": "markdown",
   "id": "6ea29dba",
   "metadata": {},
   "source": [
    "### Inference\n",
    "1. Based on the above pie chart, we can conclude that **positive sentiment** accounts for 56.2%, while **neutral sentiment** is notably lower at 12.5%.\n",
    "\n",
    "### Recommendations:\n",
    "1. **Leverage Positive Sentiment:** Given the dominance of positive sentiment, capitalize on this by crafting content that elicits positive emotions and responses from the audience.\n",
    "2. **Address Neutral Sentiment:** Although neutral sentiment is lower, it's essential to understand the reasons behind it. Consider analyzing feedback and engaging with the audience to address any concerns or areas for improvement.\n",
    "3. **Content Personalization:** Tailor content to resonate with the predominant positive sentiment while ensuring inclusivity and relevance for those expressing neutral sentiments.\n",
    "4. **Monitor Sentiment Trends:** Continuously monitor sentiment trends over time to adapt content strategies and maintain alignment with audience preferences and attitudes."
   ]
  },
  {
   "cell_type": "code",
   "execution_count": 330,
   "id": "903bd6c2",
   "metadata": {},
   "outputs": [
    {
     "data": {
      "image/png": "[encoded data removed]",
      "text/plain": [
       "<Figure size 600x400 with 1 Axes>"
      ]
     },
     "metadata": {},
     "output_type": "display_data"
    }
   ],
   "source": [
    "# Create a line plot\n",
    "plt.figure(figsize=(6,4))\n",
    "sns.lineplot(data=df3, x=df3.index, y='Score')\n",
    "plt.title('Distribution Of Rent')\n",
    "plt.xlabel('Index')\n",
    "plt.ylabel('Score')\n",
    "plt.show()"
   ]
  },
  {
   "cell_type": "code",
   "execution_count": 331,
   "id": "6da63869",
   "metadata": {},
   "outputs": [
    {
     "data": {
      "text/html": [
       "<div>\n",
       "<style scoped>\n",
       "    .dataframe tbody tr th:only-of-type {\n",
       "        vertical-align: middle;\n",
       "    }\n",
       "\n",
       "    .dataframe tbody tr th {\n",
       "        vertical-align: top;\n",
       "    }\n",
       "\n",
       "    .dataframe thead th {\n",
       "        text-align: right;\n",
       "    }\n",
       "</style>\n",
       "<table border=\"1\" class=\"dataframe\">\n",
       "  <thead>\n",
       "    <tr style=\"text-align: right;\">\n",
       "      <th></th>\n",
       "      <th>Content ID</th>\n",
       "      <th>Type</th>\n",
       "      <th>Sentiment</th>\n",
       "      <th>Score</th>\n",
       "    </tr>\n",
       "  </thead>\n",
       "  <tbody>\n",
       "    <tr>\n",
       "      <th>0</th>\n",
       "      <td>97522e57-d9ab-4bd6-97bf-c24d952602d2</td>\n",
       "      <td>disgust</td>\n",
       "      <td>negative</td>\n",
       "      <td>0</td>\n",
       "    </tr>\n",
       "    <tr>\n",
       "      <th>1</th>\n",
       "      <td>97522e57-d9ab-4bd6-97bf-c24d952602d2</td>\n",
       "      <td>dislike</td>\n",
       "      <td>negative</td>\n",
       "      <td>10</td>\n",
       "    </tr>\n",
       "    <tr>\n",
       "      <th>2</th>\n",
       "      <td>97522e57-d9ab-4bd6-97bf-c24d952602d2</td>\n",
       "      <td>scared</td>\n",
       "      <td>negative</td>\n",
       "      <td>15</td>\n",
       "    </tr>\n",
       "    <tr>\n",
       "      <th>3</th>\n",
       "      <td>97522e57-d9ab-4bd6-97bf-c24d952602d2</td>\n",
       "      <td>disgust</td>\n",
       "      <td>negative</td>\n",
       "      <td>0</td>\n",
       "    </tr>\n",
       "    <tr>\n",
       "      <th>4</th>\n",
       "      <td>97522e57-d9ab-4bd6-97bf-c24d952602d2</td>\n",
       "      <td>interested</td>\n",
       "      <td>positive</td>\n",
       "      <td>30</td>\n",
       "    </tr>\n",
       "    <tr>\n",
       "      <th>...</th>\n",
       "      <td>...</td>\n",
       "      <td>...</td>\n",
       "      <td>...</td>\n",
       "      <td>...</td>\n",
       "    </tr>\n",
       "    <tr>\n",
       "      <th>22529</th>\n",
       "      <td>75d6b589-7fae-4a6d-b0d0-752845150e56</td>\n",
       "      <td>worried</td>\n",
       "      <td>negative</td>\n",
       "      <td>12</td>\n",
       "    </tr>\n",
       "    <tr>\n",
       "      <th>22530</th>\n",
       "      <td>75d6b589-7fae-4a6d-b0d0-752845150e56</td>\n",
       "      <td>dislike</td>\n",
       "      <td>negative</td>\n",
       "      <td>10</td>\n",
       "    </tr>\n",
       "    <tr>\n",
       "      <th>22531</th>\n",
       "      <td>75d6b589-7fae-4a6d-b0d0-752845150e56</td>\n",
       "      <td>intrigued</td>\n",
       "      <td>positive</td>\n",
       "      <td>45</td>\n",
       "    </tr>\n",
       "    <tr>\n",
       "      <th>22532</th>\n",
       "      <td>75d6b589-7fae-4a6d-b0d0-752845150e56</td>\n",
       "      <td>worried</td>\n",
       "      <td>negative</td>\n",
       "      <td>12</td>\n",
       "    </tr>\n",
       "    <tr>\n",
       "      <th>22533</th>\n",
       "      <td>75d6b589-7fae-4a6d-b0d0-752845150e56</td>\n",
       "      <td>cherish</td>\n",
       "      <td>positive</td>\n",
       "      <td>70</td>\n",
       "    </tr>\n",
       "  </tbody>\n",
       "</table>\n",
       "<p>22534 rows × 4 columns</p>\n",
       "</div>"
      ],
      "text/plain": [
       "                                 Content ID        Type Sentiment  Score\n",
       "0      97522e57-d9ab-4bd6-97bf-c24d952602d2     disgust  negative      0\n",
       "1      97522e57-d9ab-4bd6-97bf-c24d952602d2     dislike  negative     10\n",
       "2      97522e57-d9ab-4bd6-97bf-c24d952602d2      scared  negative     15\n",
       "3      97522e57-d9ab-4bd6-97bf-c24d952602d2     disgust  negative      0\n",
       "4      97522e57-d9ab-4bd6-97bf-c24d952602d2  interested  positive     30\n",
       "...                                     ...         ...       ...    ...\n",
       "22529  75d6b589-7fae-4a6d-b0d0-752845150e56     worried  negative     12\n",
       "22530  75d6b589-7fae-4a6d-b0d0-752845150e56     dislike  negative     10\n",
       "22531  75d6b589-7fae-4a6d-b0d0-752845150e56   intrigued  positive     45\n",
       "22532  75d6b589-7fae-4a6d-b0d0-752845150e56     worried  negative     12\n",
       "22533  75d6b589-7fae-4a6d-b0d0-752845150e56     cherish  positive     70\n",
       "\n",
       "[22534 rows x 4 columns]"
      ]
     },
     "execution_count": 331,
     "metadata": {},
     "output_type": "execute_result"
    }
   ],
   "source": [
    "# Merge the dataframes on the 'Type' column\n",
    "merged_df = pd.merge(df2, df3, on='Type')\n",
    "# Display the merged dataframe\n",
    "merged_df"
   ]
  },
  {
   "cell_type": "code",
   "execution_count": 332,
   "id": "1f7c4d99",
   "metadata": {},
   "outputs": [
    {
     "data": {
      "text/html": [
       "<div>\n",
       "<style scoped>\n",
       "    .dataframe tbody tr th:only-of-type {\n",
       "        vertical-align: middle;\n",
       "    }\n",
       "\n",
       "    .dataframe tbody tr th {\n",
       "        vertical-align: top;\n",
       "    }\n",
       "\n",
       "    .dataframe thead th {\n",
       "        text-align: right;\n",
       "    }\n",
       "</style>\n",
       "<table border=\"1\" class=\"dataframe\">\n",
       "  <thead>\n",
       "    <tr style=\"text-align: right;\">\n",
       "      <th></th>\n",
       "      <th>Content ID</th>\n",
       "      <th>Category</th>\n",
       "      <th>Content_Type</th>\n",
       "      <th>Type</th>\n",
       "      <th>Sentiment</th>\n",
       "      <th>Score</th>\n",
       "    </tr>\n",
       "  </thead>\n",
       "  <tbody>\n",
       "    <tr>\n",
       "      <th>0</th>\n",
       "      <td>97522e57-d9ab-4bd6-97bf-c24d952602d2</td>\n",
       "      <td>studying</td>\n",
       "      <td>photo</td>\n",
       "      <td>disgust</td>\n",
       "      <td>negative</td>\n",
       "      <td>0</td>\n",
       "    </tr>\n",
       "    <tr>\n",
       "      <th>1</th>\n",
       "      <td>97522e57-d9ab-4bd6-97bf-c24d952602d2</td>\n",
       "      <td>studying</td>\n",
       "      <td>photo</td>\n",
       "      <td>dislike</td>\n",
       "      <td>negative</td>\n",
       "      <td>10</td>\n",
       "    </tr>\n",
       "    <tr>\n",
       "      <th>2</th>\n",
       "      <td>97522e57-d9ab-4bd6-97bf-c24d952602d2</td>\n",
       "      <td>studying</td>\n",
       "      <td>photo</td>\n",
       "      <td>scared</td>\n",
       "      <td>negative</td>\n",
       "      <td>15</td>\n",
       "    </tr>\n",
       "    <tr>\n",
       "      <th>3</th>\n",
       "      <td>97522e57-d9ab-4bd6-97bf-c24d952602d2</td>\n",
       "      <td>studying</td>\n",
       "      <td>photo</td>\n",
       "      <td>disgust</td>\n",
       "      <td>negative</td>\n",
       "      <td>0</td>\n",
       "    </tr>\n",
       "    <tr>\n",
       "      <th>4</th>\n",
       "      <td>97522e57-d9ab-4bd6-97bf-c24d952602d2</td>\n",
       "      <td>studying</td>\n",
       "      <td>photo</td>\n",
       "      <td>interested</td>\n",
       "      <td>positive</td>\n",
       "      <td>30</td>\n",
       "    </tr>\n",
       "    <tr>\n",
       "      <th>...</th>\n",
       "      <td>...</td>\n",
       "      <td>...</td>\n",
       "      <td>...</td>\n",
       "      <td>...</td>\n",
       "      <td>...</td>\n",
       "      <td>...</td>\n",
       "    </tr>\n",
       "    <tr>\n",
       "      <th>22529</th>\n",
       "      <td>75d6b589-7fae-4a6d-b0d0-752845150e56</td>\n",
       "      <td>technology</td>\n",
       "      <td>audio</td>\n",
       "      <td>worried</td>\n",
       "      <td>negative</td>\n",
       "      <td>12</td>\n",
       "    </tr>\n",
       "    <tr>\n",
       "      <th>22530</th>\n",
       "      <td>75d6b589-7fae-4a6d-b0d0-752845150e56</td>\n",
       "      <td>technology</td>\n",
       "      <td>audio</td>\n",
       "      <td>dislike</td>\n",
       "      <td>negative</td>\n",
       "      <td>10</td>\n",
       "    </tr>\n",
       "    <tr>\n",
       "      <th>22531</th>\n",
       "      <td>75d6b589-7fae-4a6d-b0d0-752845150e56</td>\n",
       "      <td>technology</td>\n",
       "      <td>audio</td>\n",
       "      <td>intrigued</td>\n",
       "      <td>positive</td>\n",
       "      <td>45</td>\n",
       "    </tr>\n",
       "    <tr>\n",
       "      <th>22532</th>\n",
       "      <td>75d6b589-7fae-4a6d-b0d0-752845150e56</td>\n",
       "      <td>technology</td>\n",
       "      <td>audio</td>\n",
       "      <td>worried</td>\n",
       "      <td>negative</td>\n",
       "      <td>12</td>\n",
       "    </tr>\n",
       "    <tr>\n",
       "      <th>22533</th>\n",
       "      <td>75d6b589-7fae-4a6d-b0d0-752845150e56</td>\n",
       "      <td>technology</td>\n",
       "      <td>audio</td>\n",
       "      <td>cherish</td>\n",
       "      <td>positive</td>\n",
       "      <td>70</td>\n",
       "    </tr>\n",
       "  </tbody>\n",
       "</table>\n",
       "<p>22534 rows × 6 columns</p>\n",
       "</div>"
      ],
      "text/plain": [
       "                                 Content ID    Category Content_Type  \\\n",
       "0      97522e57-d9ab-4bd6-97bf-c24d952602d2    studying        photo   \n",
       "1      97522e57-d9ab-4bd6-97bf-c24d952602d2    studying        photo   \n",
       "2      97522e57-d9ab-4bd6-97bf-c24d952602d2    studying        photo   \n",
       "3      97522e57-d9ab-4bd6-97bf-c24d952602d2    studying        photo   \n",
       "4      97522e57-d9ab-4bd6-97bf-c24d952602d2    studying        photo   \n",
       "...                                     ...         ...          ...   \n",
       "22529  75d6b589-7fae-4a6d-b0d0-752845150e56  technology        audio   \n",
       "22530  75d6b589-7fae-4a6d-b0d0-752845150e56  technology        audio   \n",
       "22531  75d6b589-7fae-4a6d-b0d0-752845150e56  technology        audio   \n",
       "22532  75d6b589-7fae-4a6d-b0d0-752845150e56  technology        audio   \n",
       "22533  75d6b589-7fae-4a6d-b0d0-752845150e56  technology        audio   \n",
       "\n",
       "             Type Sentiment  Score  \n",
       "0         disgust  negative      0  \n",
       "1         dislike  negative     10  \n",
       "2          scared  negative     15  \n",
       "3         disgust  negative      0  \n",
       "4      interested  positive     30  \n",
       "...           ...       ...    ...  \n",
       "22529     worried  negative     12  \n",
       "22530     dislike  negative     10  \n",
       "22531   intrigued  positive     45  \n",
       "22532     worried  negative     12  \n",
       "22533     cherish  positive     70  \n",
       "\n",
       "[22534 rows x 6 columns]"
      ]
     },
     "execution_count": 332,
     "metadata": {},
     "output_type": "execute_result"
    }
   ],
   "source": [
    "# Merge the dataframes on the 'Content ID' column\n",
    "final_df = pd.merge(df, merged_df, on='Content ID')\n",
    "# Display the merged dataframe\n",
    "final_df"
   ]
  },
  {
   "cell_type": "code",
   "execution_count": 336,
   "id": "43c43797",
   "metadata": {},
   "outputs": [
    {
     "data": {
      "text/plain": [
       "Category\n",
       "animals            68624\n",
       "science            65405\n",
       "healthy eating     63138\n",
       "technology         63035\n",
       "food               61598\n",
       "culture            60663\n",
       "travel             59358\n",
       "cooking            59174\n",
       "soccer             53216\n",
       "education          52759\n",
       "fitness            50835\n",
       "studying           49442\n",
       "dogs               48398\n",
       "tennis             46185\n",
       "veganism           45901\n",
       "public speaking    45751\n",
       "Name: Score, dtype: int64"
      ]
     },
     "execution_count": 336,
     "metadata": {},
     "output_type": "execute_result"
    }
   ],
   "source": [
    "category_scores = final_df.groupby('Category')['Score'].sum()\n",
    "categories = category_scores.sort_values(ascending=False)\n",
    "categories"
   ]
  },
  {
   "cell_type": "code",
   "execution_count": 346,
   "id": "bcd52db8",
   "metadata": {},
   "outputs": [
    {
     "data": {
      "image/png": "[encoded data removed]",
      "text/plain": [
       "<Figure size 1000x600 with 1 Axes>"
      ]
     },
     "metadata": {},
     "output_type": "display_data"
    }
   ],
   "source": [
    "# Get the count of occurrences of each category\n",
    "category_counts = final_df['Category'].value_counts()\n",
    "\n",
    "# Create a count plot\n",
    "plt.figure(figsize=(10, 6))  # Adjust the figure size as needed\n",
    "sns.countplot(data=final_df, x='Category', order=category_counts.index, palette=\"pastel\")\n",
    "plt.xticks(rotation=45)  # Rotate x-axis labels for better readability\n",
    "plt.title('Count of Categories')\n",
    "plt.xlabel('Category')\n",
    "plt.ylabel('Count')\n",
    "plt.show()"
   ]
  },
  {
   "cell_type": "code",
   "execution_count": 337,
   "id": "8ddc982c",
   "metadata": {},
   "outputs": [
    {
     "name": "stdout",
     "output_type": "stream",
     "text": [
      "Top 5 performing categories:\n",
      "Category\n",
      "animals           68624\n",
      "science           65405\n",
      "healthy eating    63138\n",
      "technology        63035\n",
      "food              61598\n",
      "Name: Score, dtype: int64\n"
     ]
    }
   ],
   "source": [
    "top_5_categories = categories.head(5)\n",
    "print(\"Top 5 performing categories:\")\n",
    "print(top_5_categories)"
   ]
  },
  {
   "cell_type": "code",
   "execution_count": 344,
   "id": "c8805e8f",
   "metadata": {},
   "outputs": [
    {
     "data": {
      "image/png": "[encoded data removed]",
      "text/plain": [
       "<Figure size 600x600 with 1 Axes>"
      ]
     },
     "metadata": {},
     "output_type": "display_data"
    }
   ],
   "source": [
    "# Plot a pie chart for the top 5 performing categories\n",
    "plt.figure(figsize=(6, 6))\n",
    "plt.pie(top_5_categories, labels=top_5_categories.index, autopct='%1.1f%%', \n",
    "        startangle=140, colors=sns.color_palette(\"pastel\"), textprops={'fontsize': 12})\n",
    "plt.title('Top 5 Performing Categories')\n",
    "plt.show()"
   ]
  },
  {
   "cell_type": "markdown",
   "id": "f3644403",
   "metadata": {},
   "source": [
    "### The top 5 categories are as follows:\n",
    "1. Animals - 21.3%\n",
    "2. Science - 20.3%\n",
    "3. Healthy Eating - 19.6%\n",
    "4. Technology - 19.6%\n",
    "5. Food - 19.1%\n",
    "\n",
    "### Recommendations:\n",
    "1. **Leverage Popular Categories:** Focus on producing high-quality content in the top-performing categories to maintain engagement and interest.\n",
    "2. **Explore Synergies:** Look for opportunities to intersect popular categories. For instance, combining science with healthy eating could yield informative content on nutrition or wellness.\n",
    "3. **Audience Interaction:** Encourage audience interaction and feedback to better understand their preferences within these top categories.\n",
    "4. **Diversification:** While focusing on popular categories is essential, consider diversifying content to maintain a balanced and engaging content strategy. Explore emerging trends and niche interests to expand audience reach and engagement."
   ]
  },
  {
   "cell_type": "markdown",
   "id": "05526b70",
   "metadata": {},
   "source": [
    "<h1 style=\"text-align:center;\">Overall Performance</h1>"
   ]
  },
  {
   "cell_type": "markdown",
   "id": "f74efa13",
   "metadata": {},
   "source": [
    "## Overall Inference:\n",
    "- **Top Performing Categories:** The analysis revealed that the top performing categories are animals, science, healthy eating, technology, and food. These categories garner the highest engagement and interest among the audience.\n",
    "- **Sentiment Analysis:** Positive sentiment dominates, indicating a favorable response to the content. However, there is a notable presence of neutral sentiment, suggesting areas for potential improvement or further exploration.\n",
    "- **Content Types:** The analysis suggests that photo content is the most prevalent, followed by audio content. However, there may be opportunities to enhance audio content to increase its engagement.\n",
    "- **Reaction Types:** The \"heart\" reaction type is the most frequently used, indicating a positive response from the audience. Other reaction types such as \"intrigued\" are less utilized, presenting opportunities to encourage diversity in audience engagement.\n",
    "\n",
    "## Overall Recommendations:\n",
    "1. **Content Optimization:** Continue to produce high-quality content within the top performing categories to maintain engagement levels. Explore diverse topics within these categories to cater to various interests within the audience.\n",
    "2. **Engagement Strategies:** Encourage audience interaction and feedback to gain insights into their preferences and interests. Utilize polls, surveys, and Q&A sessions to foster community engagement.\n",
    "3. **Sentiment Analysis:** Regularly monitor sentiment trends to gauge audience satisfaction and identify areas for improvement. Address any concerns or issues raised by neutral sentiment through proactive communication and action.\n",
    "4. **Content Diversity:** While focusing on popular categories, maintain a balance by diversifying content types and formats. Explore emerging trends and niche interests to expand audience reach and engagement.\n",
    "5. **Reaction Diversity:** Promote the use of diverse reaction types to encourage varied forms of audience engagement. Educate the audience on the availability and significance of different reaction options to foster inclusivity and diversity in engagement.\n",
    "\n",
    "By implementing these recommendations, it's possible to optimize content strategy, enhance audience engagement, and foster a thriving and inclusive community around the content."
   ]
  }
 ],
 "metadata": {
  "kernelspec": {
   "display_name": "Python 3 (ipykernel)",
   "language": "python",
   "name": "python3"
  },
  "language_info": {
   "codemirror_mode": {
    "name": "ipython",
    "version": 3
   },
   "file_extension": ".py",
   "mimetype": "text/x-python",
   "name": "python",
   "nbconvert_exporter": "python",
   "pygments_lexer": "ipython3",
   "version": "3.11.5"
  }
 },
 "nbformat": 4,
 "nbformat_minor": 5
}
